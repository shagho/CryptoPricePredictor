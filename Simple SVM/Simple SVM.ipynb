{
 "cells": [
  {
   "cell_type": "markdown",
   "metadata": {},
   "source": [
    "# Import packages and process data"
   ]
  },
  {
   "cell_type": "code",
   "execution_count": 3,
   "metadata": {},
   "outputs": [
    {
     "data": {
      "text/html": [
       "<div>\n",
       "<style>\n",
       "    .dataframe thead tr:only-child th {\n",
       "        text-align: right;\n",
       "    }\n",
       "\n",
       "    .dataframe thead th {\n",
       "        text-align: left;\n",
       "    }\n",
       "\n",
       "    .dataframe tbody tr th {\n",
       "        vertical-align: top;\n",
       "    }\n",
       "</style>\n",
       "<table border=\"1\" class=\"dataframe\">\n",
       "  <thead>\n",
       "    <tr style=\"text-align: right;\">\n",
       "      <th></th>\n",
       "      <th>Id</th>\n",
       "      <th>SepalLengthCm</th>\n",
       "      <th>SepalWidthCm</th>\n",
       "      <th>PetalLengthCm</th>\n",
       "      <th>PetalWidthCm</th>\n",
       "      <th>Species</th>\n",
       "    </tr>\n",
       "  </thead>\n",
       "  <tbody>\n",
       "    <tr>\n",
       "      <th>0</th>\n",
       "      <td>1</td>\n",
       "      <td>5.1</td>\n",
       "      <td>3.5</td>\n",
       "      <td>1.4</td>\n",
       "      <td>0.2</td>\n",
       "      <td>Iris-setosa</td>\n",
       "    </tr>\n",
       "    <tr>\n",
       "      <th>1</th>\n",
       "      <td>2</td>\n",
       "      <td>4.9</td>\n",
       "      <td>3.0</td>\n",
       "      <td>1.4</td>\n",
       "      <td>0.2</td>\n",
       "      <td>Iris-setosa</td>\n",
       "    </tr>\n",
       "    <tr>\n",
       "      <th>2</th>\n",
       "      <td>3</td>\n",
       "      <td>4.7</td>\n",
       "      <td>3.2</td>\n",
       "      <td>1.3</td>\n",
       "      <td>0.2</td>\n",
       "      <td>Iris-setosa</td>\n",
       "    </tr>\n",
       "    <tr>\n",
       "      <th>3</th>\n",
       "      <td>4</td>\n",
       "      <td>4.6</td>\n",
       "      <td>3.1</td>\n",
       "      <td>1.5</td>\n",
       "      <td>0.2</td>\n",
       "      <td>Iris-setosa</td>\n",
       "    </tr>\n",
       "    <tr>\n",
       "      <th>4</th>\n",
       "      <td>5</td>\n",
       "      <td>5.0</td>\n",
       "      <td>3.6</td>\n",
       "      <td>1.4</td>\n",
       "      <td>0.2</td>\n",
       "      <td>Iris-setosa</td>\n",
       "    </tr>\n",
       "  </tbody>\n",
       "</table>\n",
       "</div>"
      ],
      "text/plain": [
       "   Id  SepalLengthCm  SepalWidthCm  PetalLengthCm  PetalWidthCm      Species\n",
       "0   1            5.1           3.5            1.4           0.2  Iris-setosa\n",
       "1   2            4.9           3.0            1.4           0.2  Iris-setosa\n",
       "2   3            4.7           3.2            1.3           0.2  Iris-setosa\n",
       "3   4            4.6           3.1            1.5           0.2  Iris-setosa\n",
       "4   5            5.0           3.6            1.4           0.2  Iris-setosa"
      ]
     },
     "execution_count": 3,
     "metadata": {},
     "output_type": "execute_result"
    }
   ],
   "source": [
    "# Data from https://www.kaggle.com/uciml/iris\n",
    "# SVM notes from https://med.nyu.edu/chibi/sites/default/files/chibi/Final.pdf\n",
    "import numpy as np\n",
    "import pandas as pd\n",
    "import matplotlib.pyplot as plt\n",
    "\n",
    "# Dataset of plant measurements and species classification\n",
    "df = pd.read_csv(\"iris.csv\")\n",
    "df.head()"
   ]
  },
  {
   "cell_type": "markdown",
   "metadata": {},
   "source": [
    "# Data visualization"
   ]
  },
  {
   "cell_type": "markdown",
   "metadata": {},
   "source": [
    "SVM attempts to find the optimal classification border based on two or more independent variables. By starting in two dimentions we can easily visualize the data. Let's try to find the classication border for a few highly correlated points:"
   ]
  },
  {
   "cell_type": "code",
   "execution_count": 4,
   "metadata": {},
   "outputs": [
    {
     "data": {
      "image/png": "[encoded data removed]",
      "text/plain": [
       "<matplotlib.figure.Figure at 0x11f8758fc50>"
      ]
     },
     "metadata": {},
     "output_type": "display_data"
    }
   ],
   "source": [
    "setosa = df[(df.Species == 'Iris-setosa')]\n",
    "versicolor = df[(df.Species == 'Iris-versicolor')]\n",
    "colors = list()\n",
    "plt.figure(figsize=(14,8))\n",
    "p1 = plt.scatter(setosa.PetalLengthCm, setosa.PetalWidthCm, c='r')\n",
    "p2 = plt.scatter(versicolor.PetalLengthCm, versicolor.PetalWidthCm, c='b')\n",
    "plt.title('Classified Iris Flower Measurements')\n",
    "plt.xlabel('Petal Length (Cm)')\n",
    "plt.ylabel('Petal Width (Cm)')\n",
    "plt.legend((p1, p2), ('Iris-setosa', 'Iris-versicolor'), loc='upper left')\n",
    "plt.show()"
   ]
  },
  {
   "cell_type": "markdown",
   "metadata": {},
   "source": [
    "# SVM implementation (Linear, non-kerneled, and hard margin)"
   ]
  },
  {
   "cell_type": "markdown",
   "metadata": {},
   "source": [
    "Our goal is draw a dividing line (hyperplane) between data points that seperates the data into two classes. It should maximize the the space (margin) between the line and the nearest points (support vectors). In sigma notation, we want to minimize $W(\\alpha)$:\n",
    "$$W(\\alpha) = \\sum_{i=1}^{l} \\alpha_{i} + \\frac{1}{2} \\sum_{i=1}^{l} \\sum_{j=1}^{l} y_{i} y_{j} \\alpha_{i} \\alpha_{j}(x_{i} \\cdot x_{j})$$\n",
    "where $\\alpha$ is the vector of $l$ non-negative Lagrange multipliers to be determined, and $C$ is a constant. Note that only the closest points to the hyperplane are important for the problem. We could remove all other points and arrive at the same solution. Those points and their derived vectors are the 'support vectors' in Support Vector Machines. By adding dimentions, we can apply SVM to many independent variables and datasets that are not so obtusely seperated."
   ]
  },
  {
   "cell_type": "markdown",
   "metadata": {},
   "source": [
    "### Vectorizing (and merging) our data"
   ]
  },
  {
   "cell_type": "markdown",
   "metadata": {},
   "source": [
    "Now our data is in a continuous list."
   ]
  },
  {
   "cell_type": "code",
   "execution_count": 5,
   "metadata": {},
   "outputs": [],
   "source": [
    "X = list()\n",
    "Y = list()\n",
    "for petal_l in setosa.PetalLengthCm:\n",
    "    X.append(petal_l)\n",
    "for petal_w in setosa.PetalWidthCm:\n",
    "    Y.append(petal_w)\n",
    "for petal_l in versicolor.PetalLengthCm:\n",
    "    X.append(petal_l)\n",
    "for petal_w in versicolor.PetalWidthCm:\n",
    "    Y.append(petal_w)"
   ]
  },
  {
   "cell_type": "markdown",
   "metadata": {},
   "source": [
    "### Implement SVM class"
   ]
  },
  {
   "cell_type": "markdown",
   "metadata": {},
   "source": [
    "Lagrange multiplication technique is classically applied to optimization problems bounded by a constraint. Here, our constraint that must be satisfied is:\n",
    "$$\\sum_{i=1}^{l} y_{i} \\alpha_{i} = 0$$\n",
    "$$0 \\leq \\alpha_{i} \\leq C (\\forall i)$$"
   ]
  },
  {
   "cell_type": "markdown",
   "metadata": {},
   "source": [
    "The multiplier itself is $\\lambda$, or the proportionality between two gradients $\\triangledown s = \\lambda \\triangledown t$."
   ]
  },
  {
   "cell_type": "code",
   "execution_count": 7,
   "metadata": {},
   "outputs": [],
   "source": [
    "def svm_sgd(X, Y):\n",
    "    w = np.zeros(len(X))\n",
    "    eta = 1\n",
    "    epochs = 1000\n",
    "    # Gradient descent (?)\n",
    "    for epoch in range(1,epochs):\n",
    "        \n",
    "        for i, x in enumerate(X):\n",
    "            if (Y[i] * np.dot(X[i], w)).any() < 1:\n",
    "                w = w + eta * ( (X[i] * Y[i]) + (-2  *(1/epoch)* w) )\n",
    "            else:\n",
    "                w = w + eta * (-2  *(1/epoch)* w)\n",
    "    return w"
   ]
  },
  {
   "cell_type": "code",
   "execution_count": 10,
   "metadata": {},
   "outputs": [],
   "source": [
    "w = svm_sgd(X,Y)\n",
    "print (w)"
   ]
  },
  {
   "cell_type": "code",
   "execution_count": null,
   "metadata": {
    "collapsed": true
   },
   "outputs": [],
   "source": []
  }
 ],
 "metadata": {
  "kernelspec": {
   "display_name": "Python 3",
   "language": "python",
   "name": "python3"
  },
  "language_info": {
   "codemirror_mode": {
    "name": "ipython",
    "version": 3
   },
   "file_extension": ".py",
   "mimetype": "text/x-python",
   "name": "python",
   "nbconvert_exporter": "python",
   "pygments_lexer": "ipython3",
   "version": "3.6.3"
  }
 },
 "nbformat": 4,
 "nbformat_minor": 2
}
