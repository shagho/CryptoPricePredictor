{
 "cells": [
  {
   "cell_type": "code",
   "execution_count": 136,
   "metadata": {},
   "outputs": [
    {
     "data": {
      "text/html": [
       "<div>\n",
       "<style>\n",
       "    .dataframe thead tr:only-child th {\n",
       "        text-align: right;\n",
       "    }\n",
       "\n",
       "    .dataframe thead th {\n",
       "        text-align: left;\n",
       "    }\n",
       "\n",
       "    .dataframe tbody tr th {\n",
       "        vertical-align: top;\n",
       "    }\n",
       "</style>\n",
       "<table border=\"1\" class=\"dataframe\">\n",
       "  <thead>\n",
       "    <tr style=\"text-align: right;\">\n",
       "      <th></th>\n",
       "      <th>Id</th>\n",
       "      <th>SepalLengthCm</th>\n",
       "      <th>SepalWidthCm</th>\n",
       "      <th>PetalLengthCm</th>\n",
       "      <th>PetalWidthCm</th>\n",
       "      <th>Species</th>\n",
       "      <th>LagMult</th>\n",
       "    </tr>\n",
       "  </thead>\n",
       "  <tbody>\n",
       "    <tr>\n",
       "      <th>0</th>\n",
       "      <td>1</td>\n",
       "      <td>0.3858</td>\n",
       "      <td>0.4687</td>\n",
       "      <td>0</td>\n",
       "      <td>0</td>\n",
       "      <td>Iris-setosa</td>\n",
       "      <td>65.5261</td>\n",
       "    </tr>\n",
       "    <tr>\n",
       "      <th>1</th>\n",
       "      <td>2</td>\n",
       "      <td>0.4871</td>\n",
       "      <td>0.6110</td>\n",
       "      <td>0</td>\n",
       "      <td>0</td>\n",
       "      <td>Iris-versicolor</td>\n",
       "      <td>65.5261</td>\n",
       "    </tr>\n",
       "    <tr>\n",
       "      <th>2</th>\n",
       "      <td>3</td>\n",
       "      <td>0.9218</td>\n",
       "      <td>0.4103</td>\n",
       "      <td>0</td>\n",
       "      <td>0</td>\n",
       "      <td>Iris-versicolor</td>\n",
       "      <td>0.0000</td>\n",
       "    </tr>\n",
       "    <tr>\n",
       "      <th>3</th>\n",
       "      <td>4</td>\n",
       "      <td>0.7382</td>\n",
       "      <td>0.8936</td>\n",
       "      <td>0</td>\n",
       "      <td>0</td>\n",
       "      <td>Iris-versicolor</td>\n",
       "      <td>0.0000</td>\n",
       "    </tr>\n",
       "    <tr>\n",
       "      <th>4</th>\n",
       "      <td>5</td>\n",
       "      <td>0.1763</td>\n",
       "      <td>0.0579</td>\n",
       "      <td>0</td>\n",
       "      <td>0</td>\n",
       "      <td>Iris-setosa</td>\n",
       "      <td>0.0000</td>\n",
       "    </tr>\n",
       "    <tr>\n",
       "      <th>5</th>\n",
       "      <td>6</td>\n",
       "      <td>0.4057</td>\n",
       "      <td>0.3529</td>\n",
       "      <td>0</td>\n",
       "      <td>0</td>\n",
       "      <td>Iris-setosa</td>\n",
       "      <td>0.0000</td>\n",
       "    </tr>\n",
       "    <tr>\n",
       "      <th>6</th>\n",
       "      <td>7</td>\n",
       "      <td>0.9355</td>\n",
       "      <td>0.8132</td>\n",
       "      <td>0</td>\n",
       "      <td>0</td>\n",
       "      <td>Iris-versicolor</td>\n",
       "      <td>0.0000</td>\n",
       "    </tr>\n",
       "    <tr>\n",
       "      <th>7</th>\n",
       "      <td>8</td>\n",
       "      <td>0.2146</td>\n",
       "      <td>0.0099</td>\n",
       "      <td>0</td>\n",
       "      <td>0</td>\n",
       "      <td>Iris-setosa</td>\n",
       "      <td>0.0000</td>\n",
       "    </tr>\n",
       "  </tbody>\n",
       "</table>\n",
       "</div>"
      ],
      "text/plain": [
       "   Id  SepalLengthCm  SepalWidthCm  PetalLengthCm  PetalWidthCm  \\\n",
       "0   1         0.3858        0.4687              0             0   \n",
       "1   2         0.4871        0.6110              0             0   \n",
       "2   3         0.9218        0.4103              0             0   \n",
       "3   4         0.7382        0.8936              0             0   \n",
       "4   5         0.1763        0.0579              0             0   \n",
       "5   6         0.4057        0.3529              0             0   \n",
       "6   7         0.9355        0.8132              0             0   \n",
       "7   8         0.2146        0.0099              0             0   \n",
       "\n",
       "           Species  LagMult  \n",
       "0      Iris-setosa  65.5261  \n",
       "1  Iris-versicolor  65.5261  \n",
       "2  Iris-versicolor   0.0000  \n",
       "3  Iris-versicolor   0.0000  \n",
       "4      Iris-setosa   0.0000  \n",
       "5      Iris-setosa   0.0000  \n",
       "6  Iris-versicolor   0.0000  \n",
       "7      Iris-setosa   0.0000  "
      ]
     },
     "execution_count": 136,
     "metadata": {},
     "output_type": "execute_result"
    }
   ],
   "source": [
    "# Data from https://www.kaggle.com/uciml/iris\n",
    "# SVM notes from https://med.nyu.edu/chibi/sites/default/files/chibi/Final.pdf\n",
    "import numpy as np\n",
    "import pandas as pd\n",
    "import matplotlib.pyplot as plt\n",
    "\n",
    "# Dataset of plant measurements and species classification\n",
    "df = pd.read_csv(\"iris_test.csv\")\n",
    "#df = pd.read_csv(\"iris_shortened.csv\")\n",
    "df"
   ]
  },
  {
   "cell_type": "code",
   "execution_count": 137,
   "metadata": {},
   "outputs": [],
   "source": [
    "df_SVM = pd.DataFrame()\n",
    "\n",
    "# Grab the columns we are interested in\n",
    "\n",
    "#!!!!! REMOVE LAGMULT FROM HERE AFTER TESTING !!!!! \n",
    "df_SVM = df[['SepalLengthCm', 'SepalWidthCm', 'Species', 'LagMult']].copy()\n",
    "\n",
    "# Setup the class value based on species\n",
    "df_SVM['Class'] = np.where(df['Species']=='Iris-setosa', 1, -1)\n",
    "\n",
    "# Initialize this, it will be set later\n",
    "\n",
    "#!!!!! UNCOMMENT THE FOLLOWING LINE AFTER TESTING !!!!!\n",
    "#df_SVM['LagMult'] = 0"
   ]
  },
  {
   "cell_type": "markdown",
   "metadata": {},
   "source": [
    "Here we need to calculate Lagrange Multiplers for each vector\n",
    "\n",
    "I have tried a few approaches, but none have been even remotely successful. For proofs sake I loaded a table ( iris_test.csv ) with the data from the text on page 265. If we can get the accurate lagrange values, then the rest of this code will work as intended for 2D classification. \n",
    "\n",
    "The only changes that would need to be made to this code for using the actual data( beyond finding the Lagrange values ) would be following the instructions in the cell above to uncomment the one line and remove 'LagMult' from the other. If you try to load in 'LagMult' from a table that doesn't have it, pandas isn't a huge fan. That is only there because I hardcoded in the LagMult values from the text for testing. And then also switching the .csv you're reading to iris_shortened.csv. I created a new table with just two species in it so I didn't have to monkey around with pandas and trimming dataframes.\n",
    "\n",
    "I'm going to keep working at finding a way to calculate these lagrange values, but I'm pushing this to gitHub now so you guys can maybe get a chance to work on that as well. If we figure out how to calculate these values we're golden."
   ]
  },
  {
   "cell_type": "code",
   "execution_count": 138,
   "metadata": {
    "collapsed": true
   },
   "outputs": [],
   "source": [
    "# Lagrange Multiplers calculated here!\n",
    "#\n",
    "#\n",
    "#"
   ]
  },
  {
   "cell_type": "code",
   "execution_count": 139,
   "metadata": {},
   "outputs": [],
   "source": [
    "# After we have Lagrange Values, calculate W and B\n",
    "\n",
    "# Keep in mind for this data, I'm treating the values as follows:\n",
    "#\n",
    "# SepalLengthCm ---> X1\n",
    "# SpealWidthCm  ---> X2\n",
    "\n",
    "# Calculate W\n",
    "w = []\n",
    "\n",
    "w0_sum = 0\n",
    "w1_sum = 0\n",
    "\n",
    "for i in range(0,df_SVM['Class'].size):\n",
    "    \n",
    "    # == SUM { LagMult_i * y_i * x_i1 }\n",
    "    # w0 and x1\n",
    "    w0_sum += df_SVM.iloc[i]['SepalLengthCm'] * df_SVM.iloc[i]['Class'] * df_SVM.iloc[i]['LagMult']\n",
    "    \n",
    "    # == SUM { LagMult_i * y_i * x_i2 }\n",
    "    # w1 and x2\n",
    "    w1_sum += df_SVM.iloc[i]['SepalWidthCm'] * df_SVM.iloc[i]['Class'] * df_SVM.iloc[i]['LagMult']\n",
    "    \n",
    "w.append(w0_sum)\n",
    "w.append(w1_sum)\n",
    "\n",
    "# Calculate B\n",
    "\n",
    "# We only need one value for B, so we'll store\n",
    "# all biases here and average them to find b\n",
    "b_init = []\n",
    "b = 0\n",
    "\n",
    "for k in range(0, df_SVM['Class'].size):\n",
    "    \n",
    "    b_temp = 0\n",
    "    # Is this point a support vector?\n",
    "    # If the LagMult is 0, then no.\n",
    "    # We only calculate bias on support vectors\n",
    "    if(df_SVM.iloc[k]['LagMult'] != 0):\n",
    "        \n",
    "        # == y_i - ( w.dot(x_i) )\n",
    "        b_temp = df_SVM.iloc[k]['Class'] - ( w[0] * df_SVM.iloc[k]['SepalLengthCm'] ) - ( w[1] * df_SVM.iloc[k]['SepalWidthCm'] )\n",
    "        b_init.append(b_temp)\n",
    "\n",
    "# Average all of our biases\n",
    "if( len(b_init) != 0 ):\n",
    "    b = sum(b_init)/len(b_init)       "
   ]
  },
  {
   "cell_type": "code",
   "execution_count": 140,
   "metadata": {
    "collapsed": true
   },
   "outputs": [],
   "source": [
    "def fit(z1, z2):\n",
    "    # This will return the predicted class value for this new point, be that 1 or -1\n",
    "    \n",
    "    # ==  sign( w.dot(z) + b)\n",
    "    value = (w[0] * z1) + (w[1] * z2) + b \n",
    "    \n",
    "    if( value >= 0 ):\n",
    "        return 1\n",
    "    else:\n",
    "        return -1    "
   ]
  },
  {
   "cell_type": "code",
   "execution_count": 141,
   "metadata": {},
   "outputs": [
    {
     "data": {
      "text/plain": [
       "1"
      ]
     },
     "execution_count": 141,
     "metadata": {},
     "output_type": "execute_result"
    }
   ],
   "source": [
    "fit(.1, .4)"
   ]
  },
  {
   "cell_type": "code",
   "execution_count": 142,
   "metadata": {},
   "outputs": [
    {
     "data": {
      "text/plain": [
       "[-6.6377939300000008, -9.3243640299999981]"
      ]
     },
     "execution_count": 142,
     "metadata": {},
     "output_type": "execute_result"
    }
   ],
   "source": [
    "w"
   ]
  },
  {
   "cell_type": "code",
   "execution_count": 143,
   "metadata": {},
   "outputs": [
    {
     "data": {
      "text/plain": [
       "7.9308230823439985"
      ]
     },
     "execution_count": 143,
     "metadata": {},
     "output_type": "execute_result"
    }
   ],
   "source": [
    "b"
   ]
  },
  {
   "cell_type": "markdown",
   "metadata": {},
   "source": [
    "Note that all of these values above watch what the text suggests they should be on page 264"
   ]
  },
  {
   "cell_type": "code",
   "execution_count": null,
   "metadata": {},
   "outputs": [],
   "source": []
  }
 ],
 "metadata": {
  "kernelspec": {
   "display_name": "Python 3",
   "language": "python",
   "name": "python3"
  },
  "language_info": {
   "codemirror_mode": {
    "name": "ipython",
    "version": 3
   },
   "file_extension": ".py",
   "mimetype": "text/x-python",
   "name": "python",
   "nbconvert_exporter": "python",
   "pygments_lexer": "ipython3",
   "version": "3.6.3"
  }
 },
 "nbformat": 4,
 "nbformat_minor": 2
}
